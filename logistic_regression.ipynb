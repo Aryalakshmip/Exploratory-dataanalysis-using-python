{
  "nbformat": 4,
  "nbformat_minor": 0,
  "metadata": {
    "colab": {
      "provenance": [],
      "authorship_tag": "ABX9TyOADFW4VWV9KIHDa7+UAYrn",
      "include_colab_link": true
    },
    "kernelspec": {
      "name": "python3",
      "display_name": "Python 3"
    },
    "language_info": {
      "name": "python"
    }
  },
  "cells": [
    {
      "cell_type": "markdown",
      "metadata": {
        "id": "view-in-github",
        "colab_type": "text"
      },
      "source": [
        "<a href=\"https://colab.research.google.com/github/Aryalakshmip/Exploratory-dataanalysis-using-python/blob/main/logistic_regression.ipynb\" target=\"_parent\"><img src=\"https://colab.research.google.com/assets/colab-badge.svg\" alt=\"Open In Colab\"/></a>"
      ]
    },
    {
      "cell_type": "code",
      "execution_count": 1,
      "metadata": {
        "id": "RQ95bvebaNuK"
      },
      "outputs": [],
      "source": [
        "import pandas as pd\n",
        "import numpy as np\n"
      ]
    },
    {
      "cell_type": "code",
      "source": [
        "df = pd.read_csv('Social_Network_Ads.csv')\n",
        "print(df.head(10))\n",
        "\n",
        "X = df[['Gender', 'Age', 'EstimatedSalary']]\n",
        "y = df['Purchased']"
      ],
      "metadata": {
        "colab": {
          "base_uri": "https://localhost:8080/"
        },
        "id": "ZpTsobnUaPGB",
        "outputId": "2b0ba087-172b-41ae-af6a-cd773cd53cc4"
      },
      "execution_count": 2,
      "outputs": [
        {
          "output_type": "stream",
          "name": "stdout",
          "text": [
            "    User ID  Gender  Age  EstimatedSalary  Purchased\n",
            "0  15624510    Male   19            19000          0\n",
            "1  15810944    Male   35            20000          0\n",
            "2  15668575  Female   26            43000          0\n",
            "3  15603246  Female   27            57000          0\n",
            "4  15804002    Male   19            76000          0\n",
            "5  15728773    Male   27            58000          0\n",
            "6  15598044  Female   27            84000          0\n",
            "7  15694829  Female   32           150000          1\n",
            "8  15600575    Male   25            33000          0\n",
            "9  15727311  Female   35            65000          0\n"
          ]
        }
      ]
    },
    {
      "cell_type": "code",
      "source": [
        "m = X.shape[0]\n",
        "a = np.ones((m, 1))\n",
        "X.insert(loc = 0, column = 'Ones', value = a)"
      ],
      "metadata": {
        "id": "AgRfEsUTaPIq"
      },
      "execution_count": 3,
      "outputs": []
    },
    {
      "cell_type": "code",
      "source": [
        "X.loc[X['Gender'] == 'Male', 'Gender_Male'] = 1\n",
        "X.loc[X['Gender'] == 'Female', 'Gender_Male'] = 0\n",
        "\n",
        "del X['Gender']"
      ],
      "metadata": {
        "id": "47M3Jmr6aPLI"
      },
      "execution_count": 4,
      "outputs": []
    },
    {
      "cell_type": "code",
      "source": [
        "age_std = X['Age'].std()\n",
        "age_ave = X['Age'].mean()\n",
        "\n",
        "sala_std = X['EstimatedSalary'].std()\n",
        "sala_ave = X['EstimatedSalary'].mean()\n",
        "\n",
        "X['Age'] = (X['Age'].subtract(age_ave)).divide(age_std)\n",
        "X['EstimatedSalary'] = (X['EstimatedSalary'].subtract(sala_ave)).divide(sala_std)\n"
      ],
      "metadata": {
        "id": "GSUaga8GaPN5"
      },
      "execution_count": 5,
      "outputs": []
    },
    {
      "cell_type": "code",
      "source": [
        "from sklearn.model_selection import train_test_split\n",
        "X_train, X_test, y_train, y_test = train_test_split(X, y, random_state=42)\n",
        "X_train, X_test, y_train, y_test = X_train.to_numpy(), X_test.to_numpy(), y_train.to_numpy(), y_test.to_numpy()\n"
      ],
      "metadata": {
        "id": "YsN_PGGNaPQX"
      },
      "execution_count": 6,
      "outputs": []
    },
    {
      "cell_type": "code",
      "source": [
        "def sigmoid(z):\n",
        "\treturn (1/(1+np.exp(-z)))\n"
      ],
      "metadata": {
        "id": "SjCZ9gZaaPS4"
      },
      "execution_count": 7,
      "outputs": []
    },
    {
      "cell_type": "code",
      "source": [
        "def h(theta, X):\n",
        "\treturn sigmoid(np.matmul(X, theta))"
      ],
      "metadata": {
        "id": "I5ztzsVcaPVX"
      },
      "execution_count": 8,
      "outputs": []
    },
    {
      "cell_type": "code",
      "source": [
        "def cost_function(X, y, theta, m):\n",
        "\n",
        "\ty = y.reshape(y.shape[0], 1)\n",
        "\tH = h(theta, X)\n",
        "\n",
        "\treturn (sum((y)*np.log(H) + (1-y)*np.log(1-H))) / (-m)\n"
      ],
      "metadata": {
        "id": "TYS96sciaPYE"
      },
      "execution_count": 9,
      "outputs": []
    },
    {
      "cell_type": "code",
      "source": [
        "def gradient_descent(theta, X, y, alfa, m):\n",
        "\n",
        "\tH = h(theta, X)\n",
        "\tH = H.reshape((H.shape[0],))\n",
        "\n",
        "\tdiff = np.subtract(H, y)\n",
        "\ta = np.matmul(np.transpose(X), diff).reshape((theta.shape[0],1))\n",
        "\n",
        "\ttheta = theta - (alfa/m) * a\n",
        "\n",
        "\treturn theta"
      ],
      "metadata": {
        "id": "rTo0IsN9aPaa"
      },
      "execution_count": 10,
      "outputs": []
    },
    {
      "cell_type": "code",
      "source": [
        "def train(X, y, theta, alfa, m, num_iter):\n",
        "\n",
        "\tfor i in range(num_iter):\n",
        "\t\ttheta = gradient_descent(theta, X, y, alfa, m)\n",
        "\n",
        "\n",
        "\t\tif i % 500 == 0:\n",
        "\t\t\tprint(\"Cost: \", cost_function(X, y, theta, m))\n",
        "\n",
        "\treturn theta"
      ],
      "metadata": {
        "id": "pBitJSOcaPc7"
      },
      "execution_count": 11,
      "outputs": []
    },
    {
      "cell_type": "code",
      "source": [
        "def predict(X, theta, threshold = 0.5):\n",
        "\n",
        "\ta = h(theta, X)\n",
        "\ta [a >= threshold] = 1\n",
        "\ta [a < threshold]  = 0\n",
        "\n",
        "\treturn a"
      ],
      "metadata": {
        "id": "sYY64un6akl6"
      },
      "execution_count": 12,
      "outputs": []
    },
    {
      "cell_type": "code",
      "source": [
        "def score(y1, y2):\n",
        "\n",
        "\t#y1 is answer\n",
        "\t#y2 is calculated\n",
        "\n",
        "\ty1 = y1.reshape(y1.shape[0], 1)\n",
        "\ty2 = y2.reshape(y2.shape[0], 1)\n",
        "\n",
        "\ty1_not = (1 - y1).reshape(y1.shape[0], 1)\n",
        "\ty2_not = (1 - y2).reshape(y1.shape[0], 1)\n",
        "\n",
        "\n",
        "\ta = np.multiply(y1_not, y2_not) + np.multiply(y1, y2)\n",
        "\n",
        "\tones_ = np.count_nonzero(a == 1)\n",
        "\n",
        "\treturn (ones_ / y1.shape[0]) * 100"
      ],
      "metadata": {
        "id": "bZ4AOMSYakol"
      },
      "execution_count": 13,
      "outputs": []
    },
    {
      "cell_type": "code",
      "source": [
        "m = X_train.shape[0]\n",
        "n = X_train.shape[1]\n",
        "\n",
        "theta = np.zeros((n, 1))\n",
        "num_iter = 2000\n",
        "alfa = 0.3\n",
        "\n",
        "opt_theta = train(X_train, y_train, theta, alfa, m, num_iter)\n",
        "y_ = predict(X_test, opt_theta)\n",
        "print(\"Accuracy: \", score(y_test, y_))"
      ],
      "metadata": {
        "colab": {
          "base_uri": "https://localhost:8080/"
        },
        "id": "ksvH3afHakrE",
        "outputId": "117753cf-e79d-40f4-f01c-4fb528b22051"
      },
      "execution_count": 14,
      "outputs": [
        {
          "output_type": "stream",
          "name": "stdout",
          "text": [
            "Cost:  [0.65483195]\n",
            "Cost:  [0.37434673]\n",
            "Cost:  [0.3743219]\n",
            "Cost:  [0.37432184]\n",
            "Accuracy:  88.0\n"
          ]
        }
      ]
    },
    {
      "cell_type": "code",
      "source": [],
      "metadata": {
        "id": "_fMLUL9Rakui"
      },
      "execution_count": 14,
      "outputs": []
    }
  ]
}